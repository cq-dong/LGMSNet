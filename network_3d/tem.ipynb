{
 "cells": [
  {
   "cell_type": "code",
   "execution_count": 4,
   "metadata": {},
   "outputs": [
    {
     "name": "stdout",
     "output_type": "stream",
     "text": [
      "torch.Size([8, 256, 16, 16])\n"
     ]
    }
   ],
   "source": [
    "import torch\n",
    "\n",
    "# 创建维度为[256, 1]的张量\n",
    "tensor1 = torch.randn(256, 1,1)\n",
    "\n",
    "# 创建维度为[8, 256, 16, 16]的张量\n",
    "tensor2 = torch.randn(8, 256, 16, 16)\n",
    "\n",
    "# 对tensor2进行转置操作，使其满足矩阵乘法的维度匹配规则\n",
    "# tensor2_transposed = tensor2.permute(0, 2, 3, 1).view(8, -1, 256)\n",
    "\n",
    "# 进行矩阵乘法\n",
    "result = tensor1*tensor2\n",
    "\n",
    "\n",
    "\n",
    "print(result.shape)  "
   ]
  },
  {
   "cell_type": "code",
   "execution_count": null,
   "metadata": {},
   "outputs": [],
   "source": [
    "\n",
    "\n",
    "class CMUNeXtBlock_MK(nn.Module):  # 根据SCSA灵感，直接在一个block中为不同的channel设置不同的卷积核，同时引入通道注意力\n",
    "    def __init__(self, ch_in, ch_out, depth=1, k=3): # ch_in 需要是4的倍数\n",
    "        super(CMUNeXtBlock, self).__init__()\n",
    "        self.block = nn.Sequential(\n",
    "            *[nn.Sequential(\n",
    "                Residual(nn.Sequential(\n",
    "                    # deep wise\n",
    "                    nn.Conv2d(ch_in, ch_in, kernel_size=(k, k), groups=ch_in, padding=(k // 2, k // 2)),\n",
    "                    nn.GELU(),\n",
    "                    nn.BatchNorm2d(ch_in)\n",
    "                )),\n",
    "                nn.Conv2d(ch_in, ch_in * 4, kernel_size=(1, 1)),\n",
    "                nn.GELU(),\n",
    "                nn.BatchNorm2d(ch_in * 4),\n",
    "                nn.Conv2d(ch_in * 4, ch_in, kernel_size=(1, 1)),\n",
    "                nn.GELU(),\n",
    "                nn.BatchNorm2d(ch_in)\n",
    "            ) for i in range(depth)]\n",
    "        )\n",
    "        self.up = conv_block(ch_in, ch_out)\n",
    "        self.group_chans = group_chans = self.dim // 4\n",
    "\n",
    "\n",
    "    def forward(self, x):\n",
    "        b, c, h_, w_ = x.size()\n",
    "        l_x_h, g_x_h_s, g_x_h_m, g_x_h_l = torch.split(x, self.group_chans, dim=1)\n",
    "        x = self.block(x)\n",
    "        x = self.up(x)\n",
    "        return x\n"
   ]
  }
 ],
 "metadata": {
  "kernelspec": {
   "display_name": "uxnet3d",
   "language": "python",
   "name": "python3"
  },
  "language_info": {
   "codemirror_mode": {
    "name": "ipython",
    "version": 3
   },
   "file_extension": ".py",
   "mimetype": "text/x-python",
   "name": "python",
   "nbconvert_exporter": "python",
   "pygments_lexer": "ipython3",
   "version": "3.8.19"
  }
 },
 "nbformat": 4,
 "nbformat_minor": 2
}
